{
 "cells": [
  {
   "cell_type": "markdown",
   "metadata": {},
   "source": [
    "# 2. Diseño y Lay-Out de almacenes"
   ]
  },
  {
   "cell_type": "markdown",
   "metadata": {},
   "source": [
    "Una de las principales características que debe tener las instalaciones de un almacén y un centro de distribución es que debe ser propicio para un flujo adecuado de materiales. Esto impactará de manera positiva generando una minimización de costos, incrementando el nivele de calidad de servicio al cliente y por ende, óptimas condiciones de trabajo para los empleados."
   ]
  },
  {
   "cell_type": "markdown",
   "metadata": {},
   "source": [
    "<img src=\"img/dislay.png\" width=700>"
   ]
  },
  {
   "cell_type": "markdown",
   "metadata": {},
   "source": [
    "### Diseño de la instalación. (¿Qué contendrá mi almacén?)\n",
    "\n",
    "El diseño de las instalaciones debe incluir una vista general de planta de la instalación. En este apartado es importante considerar las columnas, instalación eléctrica, ventilación, sistema contra-incendios, sistema de seguridad, manejo de residuos paara el medio ambiente, etc. También es importante considerar los materiales con los que estarán hechos los equipos que contendran el stock. Todos estos elementos deberan de ser considerados en las diferentes **areas dentro de un almacén:**"
   ]
  },
  {
   "cell_type": "markdown",
   "metadata": {},
   "source": [
    "<img src=\"img/secciones.png\" width=800>"
   ]
  },
  {
   "cell_type": "markdown",
   "metadata": {},
   "source": [
    "### El layout del almacén. (¿Cómo distribuir los elementos dentro de mi almacén?)\n",
    "\n",
    "El layout corresponde a como estarán distribuidos los elementos dentro del almacén. El layout de un almacén debe asegurar el modo más eficiente para manejar los productos que en él se dispongan. Cuando se realiza el layout de un almacén, se debe considerar la estrategia de entradas y salidas del almacén y el tipo de almacenamiento que es más efectivo. Para ello es importante considerar las características de los productos, el método de transporte interno dentro del almacén, la rotación de los productos, el nivel de inventario a mantener, el embalaje y pautas propias de la preparación de pedidos."
   ]
  },
  {
   "cell_type": "markdown",
   "metadata": {},
   "source": [
    "El primer paso es realizar un análisis planimétrico de la superficie disponible. Esto es, precindiendo del relieve y la altitud. Posteriormente, debe realizarse el trazado de las diferentes areas dentro de un almacén, respetando las reglas básicas del buen almacenamiento; además de evitar zonas y puntos de congestión, facilitar las tareas de mantenimiento y determinar los medios necesarios para obtener la mayor velocidad de movimiento posible y así reducir los tiempos de trabajo."
   ]
  },
  {
   "cell_type": "markdown",
   "metadata": {},
   "source": [
    "* **(A)** Zona de carga y descarga\n",
    "* **(B)** Zona de recepción\n",
    "* **(C)** Zona de descarga\n",
    "* **(D)** Zona de almacenaje compacto\n",
    "* **(E)** Almacén de rotación media"
   ]
  },
  {
   "cell_type": "markdown",
   "metadata": {},
   "source": [
    "<img src=\"img\\layout.jpg\" alt=\"Python\" width=\"600\"/>"
   ]
  },
  {
   "cell_type": "markdown",
   "metadata": {},
   "source": [
    "<img src=\"img\\turtle.jpg\" alt=\"Python\" width=\"200\"/>"
   ]
  },
  {
   "cell_type": "code",
   "execution_count": null,
   "metadata": {},
   "outputs": [],
   "source": [
    "#Creamos la tortuga\n",
    "from turtle import *\n",
    "screen = Screen()\n",
    "screen.screensize(500, 500, \"white\")\n",
    "\n",
    "t=Pen()\n",
    "\n",
    "#Cerramos el canvas\n",
    "screen.exitonclick()"
   ]
  },
  {
   "cell_type": "code",
   "execution_count": null,
   "metadata": {},
   "outputs": [],
   "source": [
    "#Creamos la tortuga\n",
    "from turtle import *\n",
    "screen = Screen()\n",
    "screen.screensize(710, 710, \"white\")\n",
    "\n",
    "t=Pen()\n",
    "style = (\"Courier\", 30, \"bold\",\"italic\")\n",
    "t.speed(0)\n",
    "\n",
    "# Creamos la superficie del almacén\n",
    "t.up()\n",
    "t.goto(-350,-350)\n",
    "t.down()\n",
    "t.color()\n",
    "for i in range(4):\n",
    "    t.forward(700)\n",
    "    t.left(90)\n",
    "\n",
    "    \n",
    "# Creamos la zona de carga y descarga\n",
    "t.up()\n",
    "t.goto(-215,350)\n",
    "t.down()\n",
    "# https://ecsdtech.com/8-pages/121-python-turtle-colors\n",
    "t.pencolor(\"Red\")\n",
    "t.setheading(0)\n",
    "for puertas in range (1,7):\n",
    "    for i in range(4):\n",
    "        t.forward(50)\n",
    "        t.right(90)\n",
    "    t.up()\n",
    "    t.goto(-215+75*(puertas-1),300)\n",
    "    t.down()\n",
    "    t.goto(-215+75*(puertas-1)+25,350)\n",
    "    t.goto(-215+75*(puertas-1)+50,300)\n",
    "        \n",
    "    t.up()\n",
    "    t.goto(-215+75*puertas,350)\n",
    "    t.down()\n",
    "t.pencolor(\"black\")\n",
    "\n",
    "t.up()\n",
    "t.goto(0,250)\n",
    "t.down()\n",
    "t.setheading(90)\n",
    "t.write(\"A\", font=style, align='center')\n",
    "\n",
    "\n",
    "    \n",
    "    \n",
    "# Creamos la zona de recepción\n",
    "t.up()\n",
    "t.goto(-350,350)\n",
    "t.down()\n",
    "t.color(\"Medium Aquamarine\")\n",
    "t.begin_fill()\n",
    "t.setheading(0)\n",
    "for i in range(2):\n",
    "    t.forward(100)\n",
    "    t.right(90)\n",
    "    t.forward(300)\n",
    "    t.right(90)\n",
    "t.end_fill()\n",
    "t.color(\"black\")\n",
    "\n",
    "t.up()\n",
    "t.goto(-300,175)\n",
    "t.down()\n",
    "t.setheading(90)\n",
    "t.write(\"B\", font=style, align='center')\n",
    "\n",
    "\n",
    "\n",
    "# Creamos la zona de despacho\n",
    "t.up()\n",
    "t.goto(350,350)\n",
    "t.down()\n",
    "t.color(\"Thistle\")\n",
    "t.begin_fill()\n",
    "t.setheading(180)\n",
    "for i in range(2):\n",
    "    t.forward(100)\n",
    "    t.left(90)\n",
    "    t.forward(300)\n",
    "    t.left(90)\n",
    "t.end_fill()\n",
    "t.color(\"black\")\n",
    "\n",
    "t.up()\n",
    "t.goto(300,175)\n",
    "t.down()\n",
    "t.setheading(90)\n",
    "t.write(\"C\", font=style, align='center')\n",
    "\n",
    "\n",
    "# Creamos la zona de almacenaje compacto (vertical)\n",
    "t.up()\n",
    "t.goto(-350,-350)\n",
    "t.down()\n",
    "t.color(\"Steel Blue\")\n",
    "for fila in range(1,16):\n",
    "    t.begin_fill()\n",
    "    t.setheading(0)\n",
    "    for i in range(2):\n",
    "        t.forward(100)\n",
    "        t.left(90)\n",
    "        t.forward(10)\n",
    "        t.left(90)\n",
    "    t.end_fill()\n",
    "    t.up()\n",
    "    t.goto(-350,-350+25*fila)\n",
    "    t.down()\n",
    "        \n",
    "t.color(\"black\")\n",
    "\n",
    "t.up()\n",
    "t.goto(-300,-175)\n",
    "t.down()\n",
    "t.setheading(90)\n",
    "t.write(\"D\", font=style, align='center')\n",
    "\n",
    "\n",
    "\n",
    "# Creamos la zona de almacenaje de rotación media (horizontal)\n",
    "t.up()\n",
    "t.goto(-220,-335)\n",
    "t.down()\n",
    "t.pencolor(\"Navy\")\n",
    "for fila in range(1,15):\n",
    "    t.setheading(0)\n",
    "    for i in range(2):\n",
    "        t.forward(20)\n",
    "        t.left(90)\n",
    "        t.forward(350)\n",
    "        t.left(90)\n",
    "    for columna in range (1,14):\n",
    "        t.up()\n",
    "        t.goto(-220+40*(fila-1),-335+25*columna)\n",
    "        t.down()\n",
    "        t.goto(-220+40*(fila-1)+20,-335+25*columna)        \n",
    "    t.up()\n",
    "    t.goto(-220+40*fila,-335)\n",
    "    t.down()\n",
    "        \n",
    "t.color(\"black\")\n",
    "\n",
    "t.up()\n",
    "t.goto(50,-175)\n",
    "t.down()\n",
    "t.setheading(90)\n",
    "t.write(\"E\", font=style, align='center')\n",
    "\n",
    "\n",
    "# Se crea un archivo donde se guarda el layout\n",
    "layout = getscreen()\n",
    "\n",
    "layout.getcanvas().postscript(file=\"layout.eps\")\n",
    "\n",
    "\n",
    "#Cerramos el canvas\n",
    "screen.exitonclick()"
   ]
  },
  {
   "cell_type": "markdown",
   "metadata": {},
   "source": [
    "## 2.1 Dimensión de SKU’s, cajas, tarimas y anaqueles"
   ]
  },
  {
   "cell_type": "markdown",
   "metadata": {},
   "source": [
    "Dado que uno de los objetivos principales a la hora de gestionar la mercancía es reducir el número de movimientos a los mínimos indispensables. Por ello es necesario crear una unidad de carga lo más grande posible. Es indudable que el manejo de grandes cargas facilita el almacenamiento en una amplia mayoría de casos. Sin embargo, es muy frecuente que los productos que han entrado en un almacén en un tamaño determinado de carga, salgan de la instalación en unidades mucho más pequeñas."
   ]
  },
  {
   "cell_type": "markdown",
   "metadata": {},
   "source": [
    "**El SKU (Stock-keeping unit)** representa para una empresa la unidad mínima de un producto que puede ser vendida, comprada, o gestionada al inventario. Por ejemplo, una caja puede contener cientos de paquetes de clips. El usuario final hará uso de un clip a la vez, sin embargo este producto en particular no se maneja a esa escala de venta. Siempre se considera el paquete con 20 o más clips. Por lo tanto el SKU correspondería a los paquetes dentro de la caja."
   ]
  },
  {
   "cell_type": "markdown",
   "metadata": {},
   "source": [
    "<img src=\"img/sku.png\" width=600>"
   ]
  },
  {
   "cell_type": "markdown",
   "metadata": {},
   "source": [
    "Mientras mas SKU se puedan transportar al mismo tiempo, el desempeño en el almacén será mejor. Para ello es importante considerar el tamaño de las tarimas o palets. Las palets por definición son bases rigidas sobre las cuales se puede apilar mercancía. Las dimensiones de las palets está normalizada y las más comunes el mercado son el palet europeo o **europalet con 800 x 1200 mm** y el palet americano o **isopalet con 1000 x 1200 mm.** Existen otros tipos de pallet, dependiendo la región y el tipo de industria, a continuación se muestran las reconocidas por la **norma ISO 6780**:"
   ]
  },
  {
   "cell_type": "markdown",
   "metadata": {},
   "source": [
    "<table>\n",
    "\t<tr>\n",
    "\t\t<th>Ancho (mm)</th>\n",
    "\t\t<th>Largo (mm)</th>\n",
    "        <th>Ancho (in)</th>\n",
    "\t\t<th>Largo (in)</th>\n",
    "\t\t<th>Localización</th>\n",
    " \t</tr>\n",
    " \t<tr>\n",
    "  \t\t<td>1219</td>\n",
    "   \t\t<td>1016</td>\n",
    "\t\t<td>48.0</td>\n",
    "        <td>40.0</td>\n",
    "        <td>America</td>\n",
    " \t</tr>\n",
    "\t<tr>\n",
    "  \t\t<td>1000</td>\n",
    "   \t\t<td>1200</td>\n",
    "\t\t<td>39.37</td>\n",
    "        <td>47.24</td>\n",
    "        <td>Europa, Asia</td>\n",
    " \t</tr>\n",
    "    <tr>\n",
    "  \t\t<td>1165</td>\n",
    "   \t\t<td>1165</td>\n",
    "\t\t<td>44.88</td>\n",
    "        <td>44.88</td>\n",
    "        <td>Australia</td>\n",
    " \t</tr>\n",
    "    <tr>\n",
    "  \t\t<td>1067</td>\n",
    "   \t\t<td>1067</td>\n",
    "\t\t<td>42.0</td>\n",
    "        <td>42.0</td>\n",
    "        <td>America, Europa, Asia</td>\n",
    " \t</tr>\n",
    "    <tr>\n",
    "  \t\t<td>1100</td>\n",
    "   \t\t<td>1100</td>\n",
    "\t\t<td>43.3</td>\n",
    "        <td>43.3</td>\n",
    "        <td>Asia</td>\n",
    " \t</tr>\n",
    "    <tr>\n",
    "  \t\t<td>800</td>\n",
    "   \t\t<td>1200</td>\n",
    "\t\t<td>31.5</td>\n",
    "        <td>47.24</td>\n",
    "        <td>Europa</td>\n",
    " \t</tr>\n",
    "</table>"
   ]
  },
  {
   "cell_type": "markdown",
   "metadata": {},
   "source": [
    "<img src=\"img/europalet.gif\" width=800>"
   ]
  },
  {
   "cell_type": "markdown",
   "metadata": {},
   "source": [
    "Las medidas de los palets están en función de los transportes terrestres existentes desde la segunda guerra mundial. **El ancho de los vagones de ferrocarril es de 2.4 mts, lo que permite colocar 2 palets en sentido horizontal, o 3 palets en sentido vertical.** El ancho de los vagones es algo que se replica tambien en las cajas de los trailers. Para el caso de un contenedor, las medidas pueden ser variadas, por ejemplo, el de 20 pies mide **20'x8'x6'**"
   ]
  },
  {
   "cell_type": "markdown",
   "metadata": {},
   "source": [
    "<img src=\"img/contenedor.gif\" width=600>"
   ]
  },
  {
   "cell_type": "markdown",
   "metadata": {},
   "source": [
    "Como las cajas pueden venir en diversos tamaños, es importante tomar en consideración todos estos aspectos antes de acomodar la carga en los palets. "
   ]
  },
  {
   "cell_type": "markdown",
   "metadata": {},
   "source": [
    "### Ejemplo\n",
    "\n",
    "Tengo una carga que consiste en cajas de cartón de 60x40x50 cm (Largo, Ancho, Alto) que debo unitarizar en palets de 120x100x15 cm. **¿Cuántas cajas van en la base del palet?**\n",
    "Si se considera una altura de contenedor de 2.392 mts, **¿cuántas cajas pueden ir en las filas del palet?**"
   ]
  },
  {
   "cell_type": "code",
   "execution_count": 5,
   "metadata": {},
   "outputs": [
    {
     "name": "stdout",
     "output_type": "stream",
     "text": [
      "5.0\n"
     ]
    }
   ],
   "source": [
    "import math\n",
    "\n",
    "base_caja=60*40\n",
    "base_palet=120*100\n",
    "cajas_en_palet=base_palet/base_caja\n",
    "print(cajas_en_palet)"
   ]
  },
  {
   "cell_type": "markdown",
   "metadata": {},
   "source": [
    "El siguiente paso es determinar el número de capas o filas que llevará el palet. Existen 2 aspectos a considerar, el **volumen que permite el transporte**, y **el peso máximo que soportan los palets, el cual es aproximadamente de 1 a 1.5 toneladas en movimiento, y de 4.5 a 5 toneladas en reposo.** En este ejemplo solo es necesario considerar el volumen."
   ]
  },
  {
   "cell_type": "code",
   "execution_count": 11,
   "metadata": {},
   "outputs": [
    {
     "name": "stdout",
     "output_type": "stream",
     "text": [
      "4.484\n"
     ]
    }
   ],
   "source": [
    "filas_cajas=(239.2-15)/50\n",
    "print(filas_cajas)"
   ]
  },
  {
   "cell_type": "markdown",
   "metadata": {},
   "source": [
    "Como el resultado no es entero, se deberá **siempre** redondear al entero inferior."
   ]
  },
  {
   "cell_type": "code",
   "execution_count": 13,
   "metadata": {},
   "outputs": [
    {
     "name": "stdout",
     "output_type": "stream",
     "text": [
      "4\n"
     ]
    }
   ],
   "source": [
    "filas_cajas=math.trunc(filas_cajas)\n",
    "print(filas_cajas)"
   ]
  },
  {
   "cell_type": "markdown",
   "metadata": {},
   "source": [
    "El número de cajas se obtiene a partir del número de cajas en la base multiplicado por el número de capas:"
   ]
  },
  {
   "cell_type": "code",
   "execution_count": 14,
   "metadata": {},
   "outputs": [
    {
     "name": "stdout",
     "output_type": "stream",
     "text": [
      "20.0\n"
     ]
    }
   ],
   "source": [
    "total_cajas=filas_cajas*cajas_en_palet\n",
    "print(total_cajas)"
   ]
  },
  {
   "cell_type": "code",
   "execution_count": 18,
   "metadata": {},
   "outputs": [],
   "source": [
    "def cajas_palet_cont(cont_w=0,cont_l=0,cont_h=0,palet_w=0,palet_l=0,palet_h=0,box_w=0,box_l=0,box_h=0):\n",
    "    '''\n",
    "    \n",
    "    cont=contenedor\n",
    "    palet=tarima\n",
    "    box=caja\n",
    "    w=ancho\n",
    "    l=largo\n",
    "    h=alto\n",
    "    \n",
    "    Función para determinar el número de cajas en una tarima, y el número de tarimas en un\n",
    "    contenedor\n",
    "    \n",
    "    '''\n",
    "    import math\n",
    "\n",
    "    base_caja=box_w*box_l\n",
    "    base_palet=palet_w*palet_l\n",
    "    base_contenedor=cont_w*cont_l\n",
    "    \n",
    "    cajas_en_palet=base_palet/base_caja\n",
    "    \n",
    "    \n",
    "    filas_cajas=(cont_h-palet_h)/box_h\n",
    "    filas_cajas=math.trunc(filas_cajas)\n",
    "    \n",
    "    total_cajas=filas_cajas*cajas_en_palet\n",
    "    \n",
    "    palets_en_cont=base_contenedor/base_palet\n",
    "    palets_en_cont=math.trunc(palets_en_cont)\n",
    "    \n",
    "    print(cajas_en_palet, \"cajas en la base del palet\")\n",
    "    print(filas_cajas, \"capas de cajas en el palet\")\n",
    "    print(total_cajas, \"cajas en total en el palet\")\n",
    "    print(palets_en_cont, \"tarimas en el contenedor\")    "
   ]
  },
  {
   "cell_type": "code",
   "execution_count": 19,
   "metadata": {},
   "outputs": [
    {
     "name": "stdout",
     "output_type": "stream",
     "text": [
      "5.0 cajas en la base del palet\n",
      "4 capas de cajas en el palet\n",
      "20.0 cajas en total en el palet\n",
      "20 tarimas en el contenedor\n"
     ]
    }
   ],
   "source": [
    "cajas_palet_cont(cont_w=2.4,cont_l=10,cont_h=2.4,\n",
    "                 palet_w=1.2,palet_l=1,palet_h=0.015,\n",
    "                 box_w=0.6,box_l=0.4,box_h=0.5)"
   ]
  },
  {
   "cell_type": "markdown",
   "metadata": {},
   "source": [
    "### Ejemplo\n",
    "\n",
    "Se van a exporta 600 cajas con peso de 50 kilos cada una, cada caja tiene una medida de 0.40 x 0.30 x 0.30 mts. (Largo*ancho*alto) De acuerdo al peso podría hacerse la exportación en un contenedor de 20' estándar.\n",
    "Las paletas a utilizar son las europeas\n",
    "Las medidas del contenedor son las siguientes: 2.352 x 5.900 x 2.392 mts\n",
    "\n",
    "\n",
    "Determine si será posible transportar las 600 cajas."
   ]
  },
  {
   "cell_type": "code",
   "execution_count": 21,
   "metadata": {},
   "outputs": [
    {
     "name": "stdout",
     "output_type": "stream",
     "text": [
      "8.0 cajas en la base del palet\n",
      "7 capas de cajas en el palet\n",
      "56.0 cajas en total en el palet\n",
      "14 tarimas en el contenedor\n"
     ]
    }
   ],
   "source": [
    "cajas_palet_cont(2.352,5.9,2.392,1.2,0.8,0.015,0.4,0.3,0.3)"
   ]
  },
  {
   "cell_type": "code",
   "execution_count": 23,
   "metadata": {},
   "outputs": [
    {
     "data": {
      "text/plain": [
       "784"
      ]
     },
     "execution_count": 23,
     "metadata": {},
     "output_type": "execute_result"
    }
   ],
   "source": [
    "56*14"
   ]
  },
  {
   "cell_type": "markdown",
   "metadata": {},
   "source": [
    "## 2.2 Métodos de acomodo"
   ]
  },
  {
   "cell_type": "markdown",
   "metadata": {},
   "source": [
    "Dentro de un almacén existen diferentes formas de poder acomodar los productos. La técnica mas sencilla es la que se conoce como **almacenamiento por bloques**. Las palets son agrupadas y apiladas de acuerdo al SKU. Dependiendo del peso y la estabilidad de las cargas, las palets apiladas pueden ir desde 2 hasta una altura que estará determinada por diferentes factores (seguridad, capacidad de carga máxima, condiciones de la palet, restricciones internas, etc). Este tipo de acomodo es útil solamente cuando se trabajan volumenes masivos de productos de tipo LIFO, en los que el número de palets por SKU es superior a 10."
   ]
  },
  {
   "cell_type": "markdown",
   "metadata": {},
   "source": [
    "Tratandose de palets, existe otra práctica en la que se colocan en lineas, y son soportadas por marcos metálicos (Anaqueles o racks). La profundidad de la línea es igual al número de palets colocados uno despues de otro. Como regla general, se utiliza el mismo SKU para cada línea. Como el ancho y largo de las palets está hasta cierto punto estandarizado, es posible determinar la longitud de los anaqueles a utilizar. Finalmente para poder crear el espacio que contendrá a la mercancia, será necesario conocer la altura máxima de mercancia apilada por cada palet."
   ]
  },
  {
   "cell_type": "markdown",
   "metadata": {},
   "source": [
    "<img src=\"img/rack.png\" width=600>"
   ]
  },
  {
   "cell_type": "markdown",
   "metadata": {},
   "source": [
    "<table>\n",
    "\t<tr>\n",
    "\t\t<th>Nombre</th>\n",
    "\t\t<th>Ventajas</th>\n",
    "        <th>Desventajas</th>\n",
    " \t</tr>\n",
    " \t<tr>\n",
    "   \t\t<td>Rack Selectivo</td>\n",
    "   \t\t<td>Excelente control del stock; cada hueco es una tarima.\n",
    "            <br><br>\n",
    "            Es accesible por todos lados para poder mover las palets\n",
    "            <br><br>\n",
    "            Adaptable a cualquier espacio, peso o tamaño de la mercancía a almacenar.</td>\n",
    "            <br>\n",
    "\t\t<td>Requiere un mayor número de pasillos para poder acceder a las palets</td>\n",
    " \t</tr>\n",
    "    <tr>\n",
    "  \t\t<td>Rack Doble fondo</td>\n",
    "   \t\t<td>Unión de 2 racks sencillos.\n",
    "            <br><br>\n",
    "            Se crean líneas de 2 palets para el manejo de los SKU\n",
    "            <br><br>\n",
    "            Ocupa menos espacio que los racks selectivos\n",
    "            <br><br>\n",
    "            Almacenan más producto que los racks selectivos\n",
    "        </td>\n",
    "\t\t<td>Los SKU que necesiten palets impares, dejaran slots vacios en el rack\n",
    "            <br><br>\n",
    "            Se necesita equipo especial para poder mover los palets\n",
    "        </td>\n",
    " \t</tr>\n",
    "    <tr>\n",
    "  \t\t<td>Rack Push back</td>\n",
    "   \t\t<td>Similar al rack de doble fondo, pero capaz de crear líneas de 3 a 5 palets.\n",
    "            <br><br>\n",
    "            Ocupa menos espacio que los racks de doble fondo\n",
    "            <br><br>\n",
    "            Almacenan más producto que los racks de doble fondo\n",
    "        </td>\n",
    "\t\t<td>No es útil para sistemas FIFO\n",
    "            <br><br>\n",
    "            Requiere una mayor inversión\n",
    "        </td>\n",
    " \t</tr>\n",
    "    <tr>\n",
    "  \t\t<td>Rack Drive in</td>\n",
    "   \t\t<td>Similar al rack Push back.\n",
    "            <br><br>\n",
    "            Se puede acceder a los palets directamente desde el montacargas\n",
    "            <br><br>\n",
    "            Almacenan más producto que los racks de doble fondo\n",
    "        </td>\n",
    "\t\t<td>No es útil para sistemas FIFO\n",
    "            <br><br>\n",
    "            Requiere más espacio para que el montacargas circule sin dificultad\n",
    "        </td>\n",
    " \t</tr>\n",
    "    <tr>\n",
    "  \t\t<td>Rack Dinámico</td>\n",
    "   \t\t<td>Similar al rack Push back.\n",
    "            <br><br>\n",
    "            Se puede acceder a los palets desde 2 extremos de la línea\n",
    "            <br><br>\n",
    "            Los palets se desplazan al otro extremo del rack mediante gravedad\n",
    "            <br><br>\n",
    "            Útil para sistemas FIFO\n",
    "            </td>\n",
    "\t\t<td>\n",
    "            <br><br>\n",
    "            Requiere más espacio para que ambos montacargas circulen sin dificultad\n",
    "        </td>\n",
    " \t</tr>\n",
    "    <tr>\n",
    "  \t\t<td>Rack Móvil</td>\n",
    "   \t\t<td>Sistema de racks selectivos, movibles y compacto.\n",
    "            <br><br>\n",
    "            Los racks se colocan sobre bases móviles guiadas que se desplazan lateralmente\n",
    "            <br><br>\n",
    "            Solo necesita de 1 pasillo para poder acceder a toda la mercancia\n",
    "            <br><br>\n",
    "            Incrementa la capacidad del almacén\n",
    "            </td>\n",
    "\t\t<td>\n",
    "            <br><br>\n",
    "            Requiere mas inversión\n",
    "            <br><br>\n",
    "            Es un sistema mas lento para poder acceder a las mercancias\n",
    "            <br><br>\n",
    "            No permite el trabajo simultaneo en varias partes del rack\n",
    "        </td>\n",
    " \t</tr>\n",
    "    <tr>\n",
    "  \t\t<td>Palet Shuttle</td>\n",
    "   \t\t<td>Sistema de racks automatizado.\n",
    "            <br><br>\n",
    "            Las palets son depositadas en un shuttle que lo llevará a su posición en el rack\n",
    "            <br><br>\n",
    "            Sistema automático, disminuye los tiempos de traslado\n",
    "            <br><br>\n",
    "            Incrementa la capacidad del almacén\n",
    "            <br><br>\n",
    "            Disminuye los costos ocultos\n",
    "            <br><br>\n",
    "            Mejora la administración y control del almacén\n",
    "            </td>\n",
    "\t\t<td>\n",
    "            Este sistema es el que mayor inversión requiere\n",
    "            <br><br>\n",
    "            Se necesita personal mas capacitado para su manejo\n",
    "        </td>\n",
    " \t</tr>\n",
    "</table>"
   ]
  },
  {
   "cell_type": "markdown",
   "metadata": {},
   "source": [
    "<img src=\"img/racks.png\" width=1000>"
   ]
  },
  {
   "cell_type": "markdown",
   "metadata": {},
   "source": [
    "## 2.3 Métodos de optimización de Picking"
   ]
  },
  {
   "cell_type": "markdown",
   "metadata": {},
   "source": [
    "Picking, es la actividad mas intensa dentro del almacén. Es la parte observables por parte del cliente. Es por esta razón, que debe de ser una actividad rápida, y con cero fallas."
   ]
  },
  {
   "cell_type": "markdown",
   "metadata": {},
   "source": [
    "<img src=\"img/inout2.png\" width=600>"
   ]
  },
  {
   "cell_type": "markdown",
   "metadata": {},
   "source": [
    "Cuando se recibe una orden por parte del cliente, el almacén debe realizar una revisión para verificar que hay inventario disponible para embarcar. Es entonces cuando se emite una lista para indicar los elementos a seleccionar. Finalmente se produce la documentación necesaria con los tiempos de selección y de embarque del pedido. Estas actividades son regularmente realizadas con un sistema de administración de almacenes. **Picking es responsable de cerca del 55% de los costos generados dentro de un almacén.**"
   ]
  },
  {
   "cell_type": "markdown",
   "metadata": {},
   "source": [
    "Si se analiza la distribución de tiempo dentro de las actividades de picking, el resultado aproximado sería el siguiente:"
   ]
  },
  {
   "cell_type": "markdown",
   "metadata": {},
   "source": [
    "<table>\n",
    "\t<tr>\n",
    "\t\t<th>Actividad</th>\n",
    "\t\t<th>% de tiempo de Picking</th>\n",
    " \t</tr>\n",
    " \t<tr>\n",
    "   \t\t<td>Desplazamientos</td>\n",
    "   \t\t<td>55%</td>\n",
    " \t</tr>\n",
    "    <tr>\n",
    "   \t\t<td>Busqueda</td>\n",
    "   \t\t<td>15%</td>\n",
    " \t</tr>\n",
    "    <tr>\n",
    "   \t\t<td>Selección</td>\n",
    "   \t\t<td>10%</td>\n",
    " \t</tr>\n",
    "    <tr>\n",
    "   \t\t<td>Actividades administrativas</td>\n",
    "   \t\t<td>20%</td>\n",
    " \t</tr>\n",
    "</table>"
   ]
  },
  {
   "cell_type": "markdown",
   "metadata": {},
   "source": [
    "En la tabla anterior es evidente que la mayor parte del tiempo que se invierte en la actividad de Picking, está destinada a los desplazamientos que se deben de realizar para poder completar la orden. Es por ello que una de las formas mas sencillas de optimizar el proceso de picking, es mediante la reducción de los desplazamientos."
   ]
  },
  {
   "cell_type": "code",
   "execution_count": null,
   "metadata": {},
   "outputs": [],
   "source": []
  },
  {
   "cell_type": "markdown",
   "metadata": {},
   "source": [
    "## 2.4 Codificación de zonas y delimitación visual (estanterías y pasillos)"
   ]
  },
  {
   "cell_type": "markdown",
   "metadata": {},
   "source": [
    "http://www.stps.gob.mx/bp/secciones/dgsst/normatividad/resumen.html"
   ]
  },
  {
   "cell_type": "markdown",
   "metadata": {},
   "source": [
    "Para la correcta delimitación de las diferentes zonas dentro de un almacén, es requisito indispensable revisar las normas **NOM 001 STPS 2008**, **NOM 006 STPS 2014** y la **NOM 026 STPS 2008**. Dichas normas contienen los estandares mínimos para la codificación y delimitación visual de cualquier lugar de trabajo."
   ]
  },
  {
   "cell_type": "markdown",
   "metadata": {},
   "source": [
    "**Objetivo de las NOM**\n",
    "\n",
    "Establecer las condiciones de seguridad de los edificios, locales, instalaciones y áreas en los centros de trabajo para su adecuado funcionamiento y conservación, con la finalidad de prevenir riesgos a los trabajadores."
   ]
  },
  {
   "cell_type": "code",
   "execution_count": null,
   "metadata": {},
   "outputs": [],
   "source": []
  }
 ],
 "metadata": {
  "kernelspec": {
   "display_name": "Python 3",
   "language": "python",
   "name": "python3"
  },
  "language_info": {
   "codemirror_mode": {
    "name": "ipython",
    "version": 3
   },
   "file_extension": ".py",
   "mimetype": "text/x-python",
   "name": "python",
   "nbconvert_exporter": "python",
   "pygments_lexer": "ipython3",
   "version": "3.7.3"
  }
 },
 "nbformat": 4,
 "nbformat_minor": 2
}
