{
 "cells": [
  {
   "cell_type": "markdown",
   "metadata": {},
   "source": [
    "# Programación Lineal 1"
   ]
  },
  {
   "cell_type": "code",
   "execution_count": 1,
   "metadata": {
    "scrolled": true
   },
   "outputs": [],
   "source": [
    "#!pip install pulp"
   ]
  },
  {
   "cell_type": "markdown",
   "metadata": {},
   "source": [
    "Programación Lineal (LP en ingles), es una técnica de programación matemática la cual busca obtener el mejor resultado posible, la máxima ganancia, o el menor costo de un modelo matemático. Dicho modelo cuenta con requerimientos que deben de satisfacerse. Dichos requerimientos están representados en la forma de ecuaciones/desigualdades lineales."
   ]
  },
  {
   "cell_type": "markdown",
   "metadata": {},
   "source": [
    "$$Z_{min}=3x+5y$$\n",
    "\n",
    "$$2x+3y \\ge 12$$\n",
    "\n",
    "$$-x+y \\le 12$$\n",
    "\n",
    "$$x \\ge 4$$\n",
    "\n",
    "$$y \\le 3$$\n",
    "\n",
    "$$x,y \\ge 0$$"
   ]
  },
  {
   "cell_type": "code",
   "execution_count": 10,
   "metadata": {},
   "outputs": [],
   "source": [
    "# Importamos la libreria para LP\n",
    "\n",
    "import pulp as p"
   ]
  },
  {
   "cell_type": "code",
   "execution_count": 11,
   "metadata": {},
   "outputs": [],
   "source": [
    "# Se crea un problema de minimización, para ello se crea un objeto\n",
    "# mediante la instanciación de la clase LpProblem:\n",
    "\n",
    "prob = p.LpProblem('Problema', p.LpMinimize)"
   ]
  },
  {
   "cell_type": "code",
   "execution_count": 12,
   "metadata": {},
   "outputs": [],
   "source": [
    "# De forma similar, se crean objetos para las variables, desde la\n",
    "# clase LpVariable:\n",
    "\n",
    "x = p.LpVariable(\"x\", lowBound = 0)   # Create a variable x >= 0 \n",
    "y = p.LpVariable(\"y\", lowBound = 0)   # Create a variable y >= 0 "
   ]
  },
  {
   "cell_type": "code",
   "execution_count": 13,
   "metadata": {},
   "outputs": [],
   "source": [
    "# Función objetivo:\n",
    "\n",
    "prob += 3 * x + 5 * y  "
   ]
  },
  {
   "cell_type": "code",
   "execution_count": 14,
   "metadata": {},
   "outputs": [],
   "source": [
    "# Restricciones: \n",
    "\n",
    "prob += 2 * x + 3 * y >= 12\n",
    "prob += -x + y <= 3\n",
    "prob += x >= 4\n",
    "prob += y <= 3"
   ]
  },
  {
   "cell_type": "code",
   "execution_count": 19,
   "metadata": {},
   "outputs": [
    {
     "name": "stdout",
     "output_type": "stream",
     "text": [
      "Problema:\n",
      "MINIMIZE\n",
      "3*x + 5*y + 0\n",
      "SUBJECT TO\n",
      "_C1: 2 x + 3 y >= 12\n",
      "\n",
      "_C2: - x + y <= 3\n",
      "\n",
      "_C3: x >= 4\n",
      "\n",
      "_C4: y <= 3\n",
      "\n",
      "VARIABLES\n",
      "x Continuous\n",
      "y Continuous\n",
      "\n"
     ]
    }
   ],
   "source": [
    "# Se muestra los datos del ejercicio:\n",
    "\n",
    "print(prob) "
   ]
  },
  {
   "cell_type": "code",
   "execution_count": 16,
   "metadata": {},
   "outputs": [
    {
     "name": "stdout",
     "output_type": "stream",
     "text": [
      "Optimal\n"
     ]
    }
   ],
   "source": [
    "status = prob.solve()   # Ejecutamos el solver \n",
    "print(p.LpStatus[status])   # Revisamos el estado de la solución"
   ]
  },
  {
   "cell_type": "code",
   "execution_count": 18,
   "metadata": {},
   "outputs": [
    {
     "name": "stdout",
     "output_type": "stream",
     "text": [
      "6.0 0.0 18.0\n"
     ]
    }
   ],
   "source": [
    "# Se imprimen los resultados finales del ejercicio:\n",
    "\n",
    "print(p.value(x), p.value(y), p.value(prob.objective))"
   ]
  },
  {
   "cell_type": "markdown",
   "metadata": {},
   "source": [
    "# Whiskas"
   ]
  },
  {
   "cell_type": "code",
   "execution_count": 2,
   "metadata": {},
   "outputs": [],
   "source": [
    "import pulp as p"
   ]
  },
  {
   "cell_type": "code",
   "execution_count": 3,
   "metadata": {},
   "outputs": [],
   "source": [
    "#Versión simplificada del problema de Whiskas utilizando PuLP Modeller en Python\n",
    "\n",
    "#Authors original version: Antony Phillips, Dr Stuart Mitchell  2007\n",
    "#Autor Version español: Dr Edgar Avalos 2020"
   ]
  },
  {
   "cell_type": "markdown",
   "metadata": {},
   "source": [
    "<img src=\"img/whiskas.jpg\" width=400>"
   ]
  },
  {
   "cell_type": "markdown",
   "metadata": {},
   "source": [
    "El alimento para gato \"Whiskas\" es manufacturado por \"Uncle's Ben\". Se quiere producir alimento que satisfaga la normativa nutricional vigente al menor costo posible. Para cada **100 gramos de alimento**, los ingredientes son **pollo, res, cordero, arroz, avena y vitaminas adicionadas en gel**. Los costos de los carnicos son **0.013, 0.008, 0.010 usd** respectivamente. Para los otros ingredientes sus costos son **0.002, 0.005 y 0.001 usd** respectivamente. Todos los costos son por gramos. El aporte de cada ingrediente al alimento es el siguiente:"
   ]
  },
  {
   "cell_type": "markdown",
   "metadata": {},
   "source": [
    "<table>\n",
    "  <tr>\n",
    "    <th>Ingrediente</th>\n",
    "    <th>Proteina</th>\n",
    "    <th>Grasa</th>\n",
    "    <th>Fibra</th>\n",
    "    <th>Sal</th>\n",
    "  </tr>\n",
    "  <tr>\n",
    "    <td><b>Pollo</b></td>\n",
    "    <td>0.100</td>\n",
    "    <td>0.080</td>\n",
    "    <td>0.001</td>\n",
    "    <td>0.002</td>\n",
    "  </tr>\n",
    "  <tr>\n",
    "    <td><b>Res</b></td>\n",
    "    <td>0.200</td>\n",
    "    <td>0.100</td>\n",
    "    <td>0.005</td>\n",
    "    <td>0.005</td>\n",
    "  </tr>\n",
    "  <tr>\n",
    "    <td><b>Cordero</b></td>\n",
    "    <td>0.150</td>\n",
    "    <td>0.110</td>\n",
    "    <td>0.003</td>\n",
    "    <td>0.007</td>\n",
    "  </tr>\n",
    "    <tr>\n",
    "    <td><b>Arroz</b></td>\n",
    "    <td>0.000</td>\n",
    "    <td>0.010</td>\n",
    "    <td>0.100</td>\n",
    "    <td>0.008</td>\n",
    "  </tr>\n",
    "  <tr>\n",
    "    <td><b>Avena</b></td>\n",
    "    <td>0.040</td>\n",
    "    <td>0.010</td>\n",
    "    <td>0.150</td>\n",
    "    <td>0.008</td>\n",
    "  </tr>\n",
    "  <tr>\n",
    "    <td><b>Gel</b></td>\n",
    "    <td>0.000</td>\n",
    "    <td>0.000</td>\n",
    "    <td>0.000</td>\n",
    "    <td>0.000</td>\n",
    "  </tr>\n",
    "</table>"
   ]
  },
  {
   "cell_type": "markdown",
   "metadata": {},
   "source": [
    "De acuerdo a la normativa, los aportes de proteina, grasa, fibra y sal de los alimentos para gato deben ser por lo menos de **8.0, 6.0, 2.0 y 0.4** respectivamente.**_¿Qué cantidad de cada ingrediente se debe incluir en el alimento para minimizar el costo?_**"
   ]
  },
  {
   "cell_type": "markdown",
   "metadata": {},
   "source": [
    "## Solución considerando solamente pollo y res"
   ]
  },
  {
   "cell_type": "markdown",
   "metadata": {},
   "source": [
    "Primero se resolvera una versión simplificada del problema, en la que solo se considerarán 2 ingredientes."
   ]
  },
  {
   "cell_type": "markdown",
   "metadata": {},
   "source": [
    "**Función objetivo:**"
   ]
  },
  {
   "cell_type": "markdown",
   "metadata": {},
   "source": [
    "$$Z_{min}=0.013x_1+0.008x_2$$"
   ]
  },
  {
   "cell_type": "markdown",
   "metadata": {},
   "source": [
    "**Variables de decisión:**"
   ]
  },
  {
   "cell_type": "markdown",
   "metadata": {},
   "source": [
    "$x_1:$% carne de pollo en cada lata de alimento para gato\n",
    "\n",
    "$x_2:$% carne de res en cada lata de alimento para gato"
   ]
  },
  {
   "cell_type": "markdown",
   "metadata": {},
   "source": [
    "**Restricciones:**"
   ]
  },
  {
   "cell_type": "markdown",
   "metadata": {},
   "source": [
    "$$x_1+x_2=100$$\n",
    "\n",
    "\n",
    "$$0.1x_1+0.2x_2 \\ge 8.0$$\n",
    "\n",
    "$$0.08x_1+0.1x_2 \\ge 6.0$$\n",
    "\n",
    "$$0.001x_1+0.005x_2 \\le 2.0$$\n",
    "\n",
    "$$0.002x_1+0.005x_2 \\le 0.4$$"
   ]
  },
  {
   "cell_type": "code",
   "execution_count": 4,
   "metadata": {},
   "outputs": [],
   "source": [
    "# Se crea el objeto 'prob' para contener los datos del problema\n",
    "# para ello hacemos una instancia desde la clase LpProblem:\n",
    "\n",
    "prob = p.LpProblem(\"El_problema_Whiskas\",p.LpMinimize)"
   ]
  },
  {
   "cell_type": "code",
   "execution_count": 5,
   "metadata": {},
   "outputs": [
    {
     "name": "stdout",
     "output_type": "stream",
     "text": [
      "El_problema_Whiskas:\n",
      "MINIMIZE\n",
      "None\n",
      "VARIABLES\n",
      "\n"
     ]
    }
   ],
   "source": [
    "print(prob)"
   ]
  },
  {
   "cell_type": "code",
   "execution_count": 6,
   "metadata": {},
   "outputs": [],
   "source": [
    "# De una manera similar, creamos los objetos para contener a las variables.\n",
    "# Para ello, se instanciará desde la clase LpVariable:\n",
    "#\n",
    "#           LpVariable(\"Nombre_variable\",[lim_inferior, lim_superior, tipo de variable])\n",
    "\n",
    "\n",
    "x1=p.LpVariable(\"%_Pollo\",0,None,p.LpInteger)\n",
    "x2=p.LpVariable(\"%_Res\",0)"
   ]
  },
  {
   "cell_type": "code",
   "execution_count": 7,
   "metadata": {},
   "outputs": [
    {
     "data": {
      "text/plain": [
       "(%_Pollo, %_Res)"
      ]
     },
     "execution_count": 7,
     "metadata": {},
     "output_type": "execute_result"
    }
   ],
   "source": [
    "x1,x2"
   ]
  },
  {
   "cell_type": "markdown",
   "metadata": {},
   "source": [
    "**Agregando la Función objetivo al modelo:**"
   ]
  },
  {
   "cell_type": "code",
   "execution_count": 8,
   "metadata": {},
   "outputs": [],
   "source": [
    "# Para agregar la función, es necesario utilizar +=\n",
    "\n",
    "prob += 0.013*x1 + 0.008*x2, \"Total Cost of Ingredients per can\""
   ]
  },
  {
   "cell_type": "markdown",
   "metadata": {},
   "source": [
    "El último paso en la programación de este modelo, es agregar las restricciones al objeto **prob**:"
   ]
  },
  {
   "cell_type": "code",
   "execution_count": 9,
   "metadata": {},
   "outputs": [],
   "source": [
    "# Se agregan las 5 restricciones, similar a la función objetivo\n",
    "\n",
    "prob += x1 + x2 == 100, \"Suma_de_porcentajes\"\n",
    "prob += 0.100*x1 + 0.200*x2 >= 8.0, \"Requerimiento_de_proteina\"\n",
    "prob += 0.080*x1 + 0.100*x2 >= 6.0, \"Requerimiento_de_grasa\"\n",
    "prob += 0.001*x1 + 0.005*x2 <= 2.0, \"Requerimiento_de_fibra\"\n",
    "prob += 0.002*x1 + 0.005*x2 <= 0.4, \"Requerimiento_de_sal\""
   ]
  },
  {
   "cell_type": "code",
   "execution_count": 10,
   "metadata": {},
   "outputs": [
    {
     "data": {
      "text/plain": [
       "1"
      ]
     },
     "execution_count": 10,
     "metadata": {},
     "output_type": "execute_result"
    }
   ],
   "source": [
    "# Se ejecuta el solver\n",
    "prob.solve()"
   ]
  },
  {
   "cell_type": "code",
   "execution_count": 11,
   "metadata": {},
   "outputs": [
    {
     "name": "stdout",
     "output_type": "stream",
     "text": [
      "Status: Optimal\n"
     ]
    }
   ],
   "source": [
    "# Imprimimos el status de la solución obtenida:\n",
    "print(\"Status:\", p.LpStatus[prob.status])"
   ]
  },
  {
   "cell_type": "code",
   "execution_count": 12,
   "metadata": {},
   "outputs": [
    {
     "name": "stdout",
     "output_type": "stream",
     "text": [
      "%_Pollo = 34.0\n",
      "%_Res = 66.0\n"
     ]
    }
   ],
   "source": [
    "# Each of the variables is printed with it's resolved optimum value\n",
    "for v in prob.variables():\n",
    "    print(v.name, \"=\", v.varValue)"
   ]
  },
  {
   "cell_type": "code",
   "execution_count": 13,
   "metadata": {},
   "outputs": [],
   "source": [
    "objetivo=p.value(prob.objective)"
   ]
  },
  {
   "cell_type": "code",
   "execution_count": 14,
   "metadata": {},
   "outputs": [
    {
     "name": "stdout",
     "output_type": "stream",
     "text": [
      "Total Cost of Ingredients per can =  0.97 usd\n"
     ]
    }
   ],
   "source": [
    "# The optimised objective function value is printed to the screen\n",
    "print(\"Total Cost of Ingredients per can = \", objetivo,\"usd\")"
   ]
  },
  {
   "cell_type": "markdown",
   "metadata": {},
   "source": [
    "## Solución considerando todos los ingredientes:"
   ]
  },
  {
   "cell_type": "markdown",
   "metadata": {},
   "source": [
    "Primero se resolvera una versión simplificada del problema, en la que solo se considerarán 2 ingredientes."
   ]
  },
  {
   "cell_type": "markdown",
   "metadata": {},
   "source": [
    "**Función objetivo:**"
   ]
  },
  {
   "cell_type": "markdown",
   "metadata": {},
   "source": [
    "$$Z_{min}=0.013x_1+0.008x_2+0.010x_3+0.002x_4+0.005x_5+0.001x_6$$"
   ]
  },
  {
   "cell_type": "markdown",
   "metadata": {},
   "source": [
    "**Variables de decisión:**"
   ]
  },
  {
   "cell_type": "markdown",
   "metadata": {},
   "source": [
    "$x_1:$% carne de pollo en cada lata de alimento para gato\n",
    "\n",
    "$x_2:$% carne de res en cada lata de alimento para gato\n",
    "\n",
    "$x_3:$% carne de cordero en cada lata de alimento para gato\n",
    "\n",
    "$x_4:$% de arroz en cada lata de alimento para gato\n",
    "\n",
    "$x_5:$% de avena en cada lata de alimento para gato\n",
    "\n",
    "$x_6:$% de gel en cada lata de alimento para gato"
   ]
  },
  {
   "cell_type": "markdown",
   "metadata": {},
   "source": [
    "**Restricciones:**"
   ]
  },
  {
   "cell_type": "markdown",
   "metadata": {},
   "source": [
    "$$x_1+x_2+x_3+x_4+x_5+x_6=100$$\n",
    "\n",
    "\n",
    "$$0.100x_1+0.200x_2+0.150x_3+0.000x_4+0.040x_5+0.000x_6 \\ge 8.0$$\n",
    "\n",
    "$$0.080x_1+0.100x_2+0.110x_3+0.010x_4+0.010x_5+0.000x_6 \\ge 6.0$$\n",
    "\n",
    "$$0.001x_1+0.005x_2+0.003x_3+0.100x_4+0.150x_5+0.000x_6 \\le 2.0$$\n",
    "\n",
    "$$0.002x_1+0.005x_2+0.007x_3+0.002x_4+0.008x_5+0.000x_6 \\le 0.4$$"
   ]
  },
  {
   "cell_type": "code",
   "execution_count": 15,
   "metadata": {},
   "outputs": [],
   "source": [
    "import pulp as p"
   ]
  },
  {
   "cell_type": "code",
   "execution_count": 16,
   "metadata": {},
   "outputs": [],
   "source": [
    "# Por tener un mayor número de variables y restricciones, será necesario\n",
    "# crear una lista que contenga el nombre de las variables, y diccionarios\n",
    "# para relacionar dichas variables a sus correspondientes valores de \n",
    "# restricción:\n",
    "\n",
    "# Lista\n",
    "Ingredientes = ['Pollo', 'Res', 'Cordero', 'Arroz', 'Avena', 'Gel']\n",
    "\n",
    "# Diccionarios\n",
    "costos = {'Pollo': 0.013, \n",
    "         'Res': 0.008, \n",
    "         'Cordero': 0.010, \n",
    "         'Arroz': 0.002, \n",
    "         'Avena': 0.005, \n",
    "         'Gel': 0.001}\n",
    "\n",
    "\n",
    "Porcentaje_proteina = {'Pollo': 0.100, \n",
    "                      'Res': 0.200, \n",
    "                      'Cordero': 0.150, \n",
    "                      'Arroz': 0.000, \n",
    "                      'Avena': 0.040, \n",
    "                      'Gel': 0.000}\n",
    "\n",
    "\n",
    "Porcentaje_grasa = {'Pollo': 0.080, \n",
    "                  'Res': 0.100, \n",
    "                  'Cordero': 0.110, \n",
    "                  'Arroz': 0.010, \n",
    "                  'Avena': 0.010, \n",
    "                  'Gel': 0.000}\n",
    "\n",
    "\n",
    "Porcentaje_fibra = {'Pollo': 0.001, \n",
    "                    'Res': 0.005, \n",
    "                    'Cordero': 0.003, \n",
    "                    'Arroz': 0.100, \n",
    "                    'Avena': 0.150, \n",
    "                    'Gel': 0.000}\n",
    "\n",
    "\n",
    "Porcentaje_sal = {'Pollo': 0.002, \n",
    "                   'Res': 0.005, \n",
    "                   'Cordero': 0.007, \n",
    "                   'Arroz': 0.002, \n",
    "                   'Avena': 0.008, \n",
    "                   'Gel': 0.000}"
   ]
  },
  {
   "cell_type": "code",
   "execution_count": 17,
   "metadata": {},
   "outputs": [],
   "source": [
    "prob = p.LpProblem(\"Problema_Whiskas_2\", p.LpMinimize)"
   ]
  },
  {
   "cell_type": "code",
   "execution_count": 18,
   "metadata": {},
   "outputs": [],
   "source": [
    "# A partir de la lista de variables, usaremos la clase LpVariable.dicts\n",
    "# para generar un diccionario especial:\n",
    "\n",
    "ingredient_vars = p.LpVariable.dicts(\"Ingr\",Ingredientes,0)"
   ]
  },
  {
   "cell_type": "code",
   "execution_count": 19,
   "metadata": {},
   "outputs": [
    {
     "data": {
      "text/plain": [
       "{'Pollo': Ingr_Pollo,\n",
       " 'Res': Ingr_Res,\n",
       " 'Cordero': Ingr_Cordero,\n",
       " 'Arroz': Ingr_Arroz,\n",
       " 'Avena': Ingr_Avena,\n",
       " 'Gel': Ingr_Gel}"
      ]
     },
     "execution_count": 19,
     "metadata": {},
     "output_type": "execute_result"
    }
   ],
   "source": [
    "ingredient_vars"
   ]
  },
  {
   "cell_type": "markdown",
   "metadata": {},
   "source": [
    "Los **diccionarios** serán utilizados para poder agregar la función a optimizar, y las restricciones, de una forma mas eficiente:"
   ]
  },
  {
   "cell_type": "code",
   "execution_count": 20,
   "metadata": {},
   "outputs": [],
   "source": [
    "# Función objetivo\n",
    "prob += p.lpSum([costos[i]*ingredient_vars[i] for i in Ingredientes])"
   ]
  },
  {
   "cell_type": "code",
   "execution_count": 21,
   "metadata": {},
   "outputs": [],
   "source": [
    "# Restricciones\n",
    "prob += p.lpSum([ingredient_vars[i] for i in Ingredientes]) == 100, \"Suma_porcentaje\"\n",
    "prob += p.lpSum([Porcentaje_proteina[i] * ingredient_vars[i] for i in Ingredientes]) >= 8.0, \"Requerimiento_proteina\"\n",
    "prob += p.lpSum([Porcentaje_grasa[i] * ingredient_vars[i] for i in Ingredientes]) >= 6.0, \"Requerimiento_grasa\"\n",
    "prob += p.lpSum([Porcentaje_fibra[i] * ingredient_vars[i] for i in Ingredientes]) <= 2.0, \"Requerimiento_fibra\"\n",
    "prob += p.lpSum([Porcentaje_sal[i] * ingredient_vars[i] for i in Ingredientes]) <= 0.4, \"Requerimiento_sal\""
   ]
  },
  {
   "cell_type": "code",
   "execution_count": 22,
   "metadata": {},
   "outputs": [
    {
     "name": "stdout",
     "output_type": "stream",
     "text": [
      "Status: Optimal\n"
     ]
    }
   ],
   "source": [
    "prob.solve()\n",
    "print(\"Status:\", p.LpStatus[prob.status])"
   ]
  },
  {
   "cell_type": "code",
   "execution_count": 23,
   "metadata": {},
   "outputs": [
    {
     "name": "stdout",
     "output_type": "stream",
     "text": [
      "Ingr_Arroz = 0.0\n",
      "Ingr_Avena = 0.0\n",
      "Ingr_Cordero = 0.0\n",
      "Ingr_Gel = 40.0\n",
      "Ingr_Pollo = 0.0\n",
      "Ingr_Res = 60.0\n"
     ]
    }
   ],
   "source": [
    "for v in prob.variables():\n",
    "    print(v.name, \"=\", v.varValue)"
   ]
  },
  {
   "cell_type": "code",
   "execution_count": 24,
   "metadata": {},
   "outputs": [
    {
     "name": "stdout",
     "output_type": "stream",
     "text": [
      "Total Cost of Ingredients per can =  0.52 usd\n"
     ]
    }
   ],
   "source": [
    "objetivo=p.value(prob.objective)\n",
    "print(\"Total Cost of Ingredients per can = \", objetivo,\"usd\")"
   ]
  },
  {
   "cell_type": "code",
   "execution_count": null,
   "metadata": {},
   "outputs": [],
   "source": []
  }
 ],
 "metadata": {
  "kernelspec": {
   "display_name": "Python 3",
   "language": "python",
   "name": "python3"
  },
  "language_info": {
   "codemirror_mode": {
    "name": "ipython",
    "version": 3
   },
   "file_extension": ".py",
   "mimetype": "text/x-python",
   "name": "python",
   "nbconvert_exporter": "python",
   "pygments_lexer": "ipython3",
   "version": "3.7.3"
  }
 },
 "nbformat": 4,
 "nbformat_minor": 2
}
